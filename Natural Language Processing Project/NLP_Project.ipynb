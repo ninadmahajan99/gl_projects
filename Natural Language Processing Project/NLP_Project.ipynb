{
 "cells": [
  {
   "cell_type": "code",
   "execution_count": 1,
   "metadata": {
    "executionInfo": {
     "elapsed": 570,
     "status": "ok",
     "timestamp": 1654939029710,
     "user": {
      "displayName": "Ninad Mahajan",
      "userId": "06019242154511429810"
     },
     "user_tz": -330
    },
    "id": "-AAukusd6Wsq"
   },
   "outputs": [],
   "source": [
    "import pandas as pd\n",
    "import matplotlib.pyplot as plt\n",
    "import seaborn as sns\n",
    "import numpy as np #Importing basic libraries"
   ]
  },
  {
   "cell_type": "code",
   "execution_count": 2,
   "metadata": {
    "colab": {
     "base_uri": "https://localhost:8080/"
    },
    "executionInfo": {
     "elapsed": 38621,
     "status": "ok",
     "timestamp": 1654939068706,
     "user": {
      "displayName": "Ninad Mahajan",
      "userId": "06019242154511429810"
     },
     "user_tz": -330
    },
    "id": "VvdS79gA6s_S",
    "outputId": "73f3d737-431c-464a-a857-9e2ff55389e6"
   },
   "outputs": [
    {
     "name": "stdout",
     "output_type": "stream",
     "text": [
      "Mounted at /content/drive\n"
     ]
    }
   ],
   "source": [
    "from google.colab import drive\n",
    "drive.mount('/content/drive')"
   ]
  },
  {
   "cell_type": "code",
   "execution_count": 3,
   "metadata": {
    "colab": {
     "base_uri": "https://localhost:8080/"
    },
    "executionInfo": {
     "elapsed": 843,
     "status": "ok",
     "timestamp": 1654939134989,
     "user": {
      "displayName": "Ninad Mahajan",
      "userId": "06019242154511429810"
     },
     "user_tz": -330
    },
    "id": "e7vQq9tO6vUT",
    "outputId": "53ef5dd4-b6b0-4cfe-a80b-1927bfe05cb2"
   },
   "outputs": [
    {
     "name": "stdout",
     "output_type": "stream",
     "text": [
      "/content/drive/My Drive/Project 2\n"
     ]
    }
   ],
   "source": [
    "%cd /content/drive/My\\ Drive/Project\\ 2"
   ]
  },
  {
   "cell_type": "code",
   "execution_count": 4,
   "metadata": {
    "executionInfo": {
     "elapsed": 1078,
     "status": "ok",
     "timestamp": 1654939136466,
     "user": {
      "displayName": "Ninad Mahajan",
      "userId": "06019242154511429810"
     },
     "user_tz": -330
    },
    "id": "V07Wi08A6zsp"
   },
   "outputs": [],
   "source": [
    "import json\n",
    "df = pd.read_json(r'Sarcasm_Headlines_Dataset.json',lines = True) #Reading the dataset"
   ]
  },
  {
   "cell_type": "code",
   "execution_count": 5,
   "metadata": {
    "colab": {
     "base_uri": "https://localhost:8080/",
     "height": 206
    },
    "executionInfo": {
     "elapsed": 50,
     "status": "ok",
     "timestamp": 1654939136469,
     "user": {
      "displayName": "Ninad Mahajan",
      "userId": "06019242154511429810"
     },
     "user_tz": -330
    },
    "id": "OYc_WDsc9DFi",
    "outputId": "6743446f-c0eb-44e4-9259-760a6520abb7"
   },
   "outputs": [
    {
     "data": {
      "text/html": [
       "\n",
       "  <div id=\"df-7e6628f1-d880-4ad1-8990-f7e03ea0dee9\">\n",
       "    <div class=\"colab-df-container\">\n",
       "      <div>\n",
       "<style scoped>\n",
       "    .dataframe tbody tr th:only-of-type {\n",
       "        vertical-align: middle;\n",
       "    }\n",
       "\n",
       "    .dataframe tbody tr th {\n",
       "        vertical-align: top;\n",
       "    }\n",
       "\n",
       "    .dataframe thead th {\n",
       "        text-align: right;\n",
       "    }\n",
       "</style>\n",
       "<table border=\"1\" class=\"dataframe\">\n",
       "  <thead>\n",
       "    <tr style=\"text-align: right;\">\n",
       "      <th></th>\n",
       "      <th>is_sarcastic</th>\n",
       "      <th>headline</th>\n",
       "      <th>article_link</th>\n",
       "    </tr>\n",
       "  </thead>\n",
       "  <tbody>\n",
       "    <tr>\n",
       "      <th>0</th>\n",
       "      <td>1</td>\n",
       "      <td>thirtysomething scientists unveil doomsday clo...</td>\n",
       "      <td>https://www.theonion.com/thirtysomething-scien...</td>\n",
       "    </tr>\n",
       "    <tr>\n",
       "      <th>1</th>\n",
       "      <td>0</td>\n",
       "      <td>dem rep. totally nails why congress is falling...</td>\n",
       "      <td>https://www.huffingtonpost.com/entry/donna-edw...</td>\n",
       "    </tr>\n",
       "    <tr>\n",
       "      <th>2</th>\n",
       "      <td>0</td>\n",
       "      <td>eat your veggies: 9 deliciously different recipes</td>\n",
       "      <td>https://www.huffingtonpost.com/entry/eat-your-...</td>\n",
       "    </tr>\n",
       "    <tr>\n",
       "      <th>3</th>\n",
       "      <td>1</td>\n",
       "      <td>inclement weather prevents liar from getting t...</td>\n",
       "      <td>https://local.theonion.com/inclement-weather-p...</td>\n",
       "    </tr>\n",
       "    <tr>\n",
       "      <th>4</th>\n",
       "      <td>1</td>\n",
       "      <td>mother comes pretty close to using word 'strea...</td>\n",
       "      <td>https://www.theonion.com/mother-comes-pretty-c...</td>\n",
       "    </tr>\n",
       "  </tbody>\n",
       "</table>\n",
       "</div>\n",
       "      <button class=\"colab-df-convert\" onclick=\"convertToInteractive('df-7e6628f1-d880-4ad1-8990-f7e03ea0dee9')\"\n",
       "              title=\"Convert this dataframe to an interactive table.\"\n",
       "              style=\"display:none;\">\n",
       "        \n",
       "  <svg xmlns=\"http://www.w3.org/2000/svg\" height=\"24px\"viewBox=\"0 0 24 24\"\n",
       "       width=\"24px\">\n",
       "    <path d=\"M0 0h24v24H0V0z\" fill=\"none\"/>\n",
       "    <path d=\"M18.56 5.44l.94 2.06.94-2.06 2.06-.94-2.06-.94-.94-2.06-.94 2.06-2.06.94zm-11 1L8.5 8.5l.94-2.06 2.06-.94-2.06-.94L8.5 2.5l-.94 2.06-2.06.94zm10 10l.94 2.06.94-2.06 2.06-.94-2.06-.94-.94-2.06-.94 2.06-2.06.94z\"/><path d=\"M17.41 7.96l-1.37-1.37c-.4-.4-.92-.59-1.43-.59-.52 0-1.04.2-1.43.59L10.3 9.45l-7.72 7.72c-.78.78-.78 2.05 0 2.83L4 21.41c.39.39.9.59 1.41.59.51 0 1.02-.2 1.41-.59l7.78-7.78 2.81-2.81c.8-.78.8-2.07 0-2.86zM5.41 20L4 18.59l7.72-7.72 1.47 1.35L5.41 20z\"/>\n",
       "  </svg>\n",
       "      </button>\n",
       "      \n",
       "  <style>\n",
       "    .colab-df-container {\n",
       "      display:flex;\n",
       "      flex-wrap:wrap;\n",
       "      gap: 12px;\n",
       "    }\n",
       "\n",
       "    .colab-df-convert {\n",
       "      background-color: #E8F0FE;\n",
       "      border: none;\n",
       "      border-radius: 50%;\n",
       "      cursor: pointer;\n",
       "      display: none;\n",
       "      fill: #1967D2;\n",
       "      height: 32px;\n",
       "      padding: 0 0 0 0;\n",
       "      width: 32px;\n",
       "    }\n",
       "\n",
       "    .colab-df-convert:hover {\n",
       "      background-color: #E2EBFA;\n",
       "      box-shadow: 0px 1px 2px rgba(60, 64, 67, 0.3), 0px 1px 3px 1px rgba(60, 64, 67, 0.15);\n",
       "      fill: #174EA6;\n",
       "    }\n",
       "\n",
       "    [theme=dark] .colab-df-convert {\n",
       "      background-color: #3B4455;\n",
       "      fill: #D2E3FC;\n",
       "    }\n",
       "\n",
       "    [theme=dark] .colab-df-convert:hover {\n",
       "      background-color: #434B5C;\n",
       "      box-shadow: 0px 1px 3px 1px rgba(0, 0, 0, 0.15);\n",
       "      filter: drop-shadow(0px 1px 2px rgba(0, 0, 0, 0.3));\n",
       "      fill: #FFFFFF;\n",
       "    }\n",
       "  </style>\n",
       "\n",
       "      <script>\n",
       "        const buttonEl =\n",
       "          document.querySelector('#df-7e6628f1-d880-4ad1-8990-f7e03ea0dee9 button.colab-df-convert');\n",
       "        buttonEl.style.display =\n",
       "          google.colab.kernel.accessAllowed ? 'block' : 'none';\n",
       "\n",
       "        async function convertToInteractive(key) {\n",
       "          const element = document.querySelector('#df-7e6628f1-d880-4ad1-8990-f7e03ea0dee9');\n",
       "          const dataTable =\n",
       "            await google.colab.kernel.invokeFunction('convertToInteractive',\n",
       "                                                     [key], {});\n",
       "          if (!dataTable) return;\n",
       "\n",
       "          const docLinkHtml = 'Like what you see? Visit the ' +\n",
       "            '<a target=\"_blank\" href=https://colab.research.google.com/notebooks/data_table.ipynb>data table notebook</a>'\n",
       "            + ' to learn more about interactive tables.';\n",
       "          element.innerHTML = '';\n",
       "          dataTable['output_type'] = 'display_data';\n",
       "          await google.colab.output.renderOutput(dataTable, element);\n",
       "          const docLink = document.createElement('div');\n",
       "          docLink.innerHTML = docLinkHtml;\n",
       "          element.appendChild(docLink);\n",
       "        }\n",
       "      </script>\n",
       "    </div>\n",
       "  </div>\n",
       "  "
      ],
      "text/plain": [
       "   is_sarcastic                                           headline  \\\n",
       "0             1  thirtysomething scientists unveil doomsday clo...   \n",
       "1             0  dem rep. totally nails why congress is falling...   \n",
       "2             0  eat your veggies: 9 deliciously different recipes   \n",
       "3             1  inclement weather prevents liar from getting t...   \n",
       "4             1  mother comes pretty close to using word 'strea...   \n",
       "\n",
       "                                        article_link  \n",
       "0  https://www.theonion.com/thirtysomething-scien...  \n",
       "1  https://www.huffingtonpost.com/entry/donna-edw...  \n",
       "2  https://www.huffingtonpost.com/entry/eat-your-...  \n",
       "3  https://local.theonion.com/inclement-weather-p...  \n",
       "4  https://www.theonion.com/mother-comes-pretty-c...  "
      ]
     },
     "execution_count": 5,
     "metadata": {},
     "output_type": "execute_result"
    }
   ],
   "source": [
    "df.head() #Let's explore the dataset"
   ]
  },
  {
   "cell_type": "code",
   "execution_count": 6,
   "metadata": {
    "colab": {
     "base_uri": "https://localhost:8080/"
    },
    "executionInfo": {
     "elapsed": 44,
     "status": "ok",
     "timestamp": 1654939136470,
     "user": {
      "displayName": "Ninad Mahajan",
      "userId": "06019242154511429810"
     },
     "user_tz": -330
    },
    "id": "56tY_I2oGftk",
    "outputId": "cc2f9e30-4275-4e59-af8e-332765ee97e8"
   },
   "outputs": [
    {
     "data": {
      "text/plain": [
       "0    14985\n",
       "1    13634\n",
       "Name: is_sarcastic, dtype: int64"
      ]
     },
     "execution_count": 6,
     "metadata": {},
     "output_type": "execute_result"
    }
   ],
   "source": [
    "df['is_sarcastic'].value_counts() #Fairly equal number of both values of the target variable, we can expect an unbiased algorithm."
   ]
  },
  {
   "cell_type": "code",
   "execution_count": 7,
   "metadata": {
    "colab": {
     "base_uri": "https://localhost:8080/"
    },
    "executionInfo": {
     "elapsed": 40,
     "status": "ok",
     "timestamp": 1654939136471,
     "user": {
      "displayName": "Ninad Mahajan",
      "userId": "06019242154511429810"
     },
     "user_tz": -330
    },
    "id": "j2eAnLO-PnW9",
    "outputId": "96cf8802-ebf1-4341-a861-3df57b8aeceb"
   },
   "outputs": [
    {
     "data": {
      "text/plain": [
       "False    28617\n",
       "True         2\n",
       "dtype: int64"
      ]
     },
     "execution_count": 7,
     "metadata": {},
     "output_type": "execute_result"
    }
   ],
   "source": [
    "#Checking the dataset for duplicate values\n",
    "df.duplicated().value_counts() #2 duplicate entries are present"
   ]
  },
  {
   "cell_type": "code",
   "execution_count": 8,
   "metadata": {
    "executionInfo": {
     "elapsed": 22,
     "status": "ok",
     "timestamp": 1654939136472,
     "user": {
      "displayName": "Ninad Mahajan",
      "userId": "06019242154511429810"
     },
     "user_tz": -330
    },
    "id": "OnJWNFC6QNj-"
   },
   "outputs": [],
   "source": [
    "df1 = df.drop_duplicates() #Dropping the duplicated entries."
   ]
  },
  {
   "cell_type": "code",
   "execution_count": 9,
   "metadata": {
    "colab": {
     "base_uri": "https://localhost:8080/"
    },
    "executionInfo": {
     "elapsed": 11,
     "status": "ok",
     "timestamp": 1654939137151,
     "user": {
      "displayName": "Ninad Mahajan",
      "userId": "06019242154511429810"
     },
     "user_tz": -330
    },
    "id": "dTebDUuxQaQl",
    "outputId": "bce68bf8-01e8-4116-91c9-008ad07f31b4"
   },
   "outputs": [
    {
     "data": {
      "text/plain": [
       "is_sarcastic    False\n",
       "headline        False\n",
       "article_link    False\n",
       "dtype: bool"
      ]
     },
     "execution_count": 9,
     "metadata": {},
     "output_type": "execute_result"
    }
   ],
   "source": [
    "#Checking if any null values are present in the dataset.\n",
    "df1.isna().any() #No null values are present in the dataset."
   ]
  },
  {
   "cell_type": "code",
   "execution_count": 10,
   "metadata": {
    "executionInfo": {
     "elapsed": 11,
     "status": "ok",
     "timestamp": 1654939137153,
     "user": {
      "displayName": "Ninad Mahajan",
      "userId": "06019242154511429810"
     },
     "user_tz": -330
    },
    "id": "VVJfLkJvQkql"
   },
   "outputs": [],
   "source": [
    "#Dropping the column 'article_link', as it's not required for training the algorithm.\n",
    "df2 = df1.drop('article_link',axis=1)"
   ]
  },
  {
   "cell_type": "code",
   "execution_count": 11,
   "metadata": {
    "executionInfo": {
     "elapsed": 7,
     "status": "ok",
     "timestamp": 1654939138299,
     "user": {
      "displayName": "Ninad Mahajan",
      "userId": "06019242154511429810"
     },
     "user_tz": -330
    },
    "id": "1trDjBzHQ2NF"
   },
   "outputs": [],
   "source": [
    "target = df2['is_sarcastic'] #Separating the target variable"
   ]
  },
  {
   "cell_type": "code",
   "execution_count": 12,
   "metadata": {
    "executionInfo": {
     "elapsed": 422,
     "status": "ok",
     "timestamp": 1654939139325,
     "user": {
      "displayName": "Ninad Mahajan",
      "userId": "06019242154511429810"
     },
     "user_tz": -330
    },
    "id": "-1Me-oHfRIAl"
   },
   "outputs": [],
   "source": [
    "from nltk.tokenize import RegexpTokenizer\n",
    "import regex as re\n",
    "def clean_text(headline):\n",
    "  headline = re.sub(r\"'\",\"\",headline) #Removing inverted comma first.\n",
    "  words = RegexpTokenizer(\"[a-zA-Z0-9]+\").tokenize(headline) #Taking only alphanumeric symbols\n",
    "  cleaned_headline = \" \".join(words) #Since the data is already lowercased and the stopwords are required for context, no further cleaning is required.\n",
    "  return cleaned_headline\n",
    "\n",
    "headline = df2['headline'].apply(clean_text)"
   ]
  },
  {
   "cell_type": "code",
   "execution_count": 13,
   "metadata": {
    "colab": {
     "base_uri": "https://localhost:8080/"
    },
    "executionInfo": {
     "elapsed": 10,
     "status": "ok",
     "timestamp": 1654939139327,
     "user": {
      "displayName": "Ninad Mahajan",
      "userId": "06019242154511429810"
     },
     "user_tz": -330
    },
    "id": "Xfjy91CsKyJd",
    "outputId": "d33f92e8-607e-467c-fe1d-28749974e6bf"
   },
   "outputs": [
    {
     "name": "stdout",
     "output_type": "stream",
     "text": [
      "ratings low for npr morning zoo crew   36\n",
      "genetically modified broccoli shrieks benefits at shopper   57\n",
      "smooth transaction at dmv exaggerated into story anyway   55\n",
      "aspiring felon moved by man who didnt get first 8 convictions until his 60s   75\n",
      "heres what actually happens to the money in wishing wells   57\n"
     ]
    }
   ],
   "source": [
    "import random\n",
    "for i in range(5):\n",
    "  #Let's print 5 random headlines with their lengths.\n",
    "  j = random.randrange(0,len(headline),1)\n",
    "  length = len(headline[j])\n",
    "  print(headline[j],\" \",length)"
   ]
  },
  {
   "cell_type": "code",
   "execution_count": 14,
   "metadata": {
    "colab": {
     "base_uri": "https://localhost:8080/"
    },
    "executionInfo": {
     "elapsed": 8,
     "status": "ok",
     "timestamp": 1654939139789,
     "user": {
      "displayName": "Ninad Mahajan",
      "userId": "06019242154511429810"
     },
     "user_tz": -330
    },
    "id": "4oH6qdfIMZGm",
    "outputId": "fe988ce4-97c1-4352-b866-eda85dc4475b"
   },
   "outputs": [
    {
     "name": "stdout",
     "output_type": "stream",
     "text": [
      "911\n"
     ]
    }
   ],
   "source": [
    "#Let's print maximum possible length of a headline.\n",
    "max_len = max([len(i) for i in headline])\n",
    "print(max_len)"
   ]
  },
  {
   "cell_type": "code",
   "execution_count": 15,
   "metadata": {
    "executionInfo": {
     "elapsed": 2268,
     "status": "ok",
     "timestamp": 1654939142525,
     "user": {
      "displayName": "Ninad Mahajan",
      "userId": "06019242154511429810"
     },
     "user_tz": -330
    },
    "id": "GPqCBHxdPnjr"
   },
   "outputs": [],
   "source": [
    "import tensorflow as tf\n",
    "from tensorflow.keras.preprocessing.text import Tokenizer\n",
    "from tensorflow.keras.preprocessing.sequence import pad_sequences\n",
    "from tensorflow.keras.layers import Dense, Input, LSTM, Embedding, Dropout, Activation, Flatten, Bidirectional, GlobalMaxPool1D\n",
    "from tensorflow.keras.models import Model, Sequential"
   ]
  },
  {
   "cell_type": "code",
   "execution_count": 16,
   "metadata": {
    "executionInfo": {
     "elapsed": 11,
     "status": "ok",
     "timestamp": 1654939142525,
     "user": {
      "displayName": "Ninad Mahajan",
      "userId": "06019242154511429810"
     },
     "user_tz": -330
    },
    "id": "_tZzH0SqQBFf"
   },
   "outputs": [],
   "source": [
    "max_features = 10000\n",
    "maxlen = max_len\n",
    "embedding_size = 50"
   ]
  },
  {
   "cell_type": "code",
   "execution_count": 17,
   "metadata": {
    "executionInfo": {
     "elapsed": 623,
     "status": "ok",
     "timestamp": 1654939143138,
     "user": {
      "displayName": "Ninad Mahajan",
      "userId": "06019242154511429810"
     },
     "user_tz": -330
    },
    "id": "DLjUfn36QJl-"
   },
   "outputs": [],
   "source": [
    "tokenizer = Tokenizer(num_words=max_features,filters='!\"#$%&()*+,-./:;<=>?@[\\\\]^_`{|}~\\t\\n',lower=True,split=' ', char_level=False)\n",
    "tokenizer.fit_on_texts(headline) #Using keras tokenizer for getting word indices"
   ]
  },
  {
   "cell_type": "code",
   "execution_count": 18,
   "metadata": {
    "executionInfo": {
     "elapsed": 5,
     "status": "ok",
     "timestamp": 1654939143139,
     "user": {
      "displayName": "Ninad Mahajan",
      "userId": "06019242154511429810"
     },
     "user_tz": -330
    },
    "id": "NM_s0aHHhf7i"
   },
   "outputs": [],
   "source": [
    "X = tokenizer.texts_to_sequences(headline)\n",
    "X = pad_sequences(X, maxlen = maxlen) #Padding the shorter headlines\n",
    "y = np.asarray(target) #Features and labels have been created now"
   ]
  },
  {
   "cell_type": "code",
   "execution_count": 19,
   "metadata": {
    "colab": {
     "base_uri": "https://localhost:8080/"
    },
    "executionInfo": {
     "elapsed": 378,
     "status": "ok",
     "timestamp": 1654940220284,
     "user": {
      "displayName": "Ninad Mahajan",
      "userId": "06019242154511429810"
     },
     "user_tz": -330
    },
    "id": "jzSuYItehxc7",
    "outputId": "8bc68be6-584b-4268-8cfe-0cac8714294e"
   },
   "outputs": [
    {
     "name": "stdout",
     "output_type": "stream",
     "text": [
      "27176\n"
     ]
    }
   ],
   "source": [
    "num_words=len(tokenizer.word_index)\n",
    "print (num_words) #Size of vocabulary"
   ]
  },
  {
   "cell_type": "code",
   "execution_count": 20,
   "metadata": {
    "executionInfo": {
     "elapsed": 6288,
     "status": "ok",
     "timestamp": 1654940316622,
     "user": {
      "displayName": "Ninad Mahajan",
      "userId": "06019242154511429810"
     },
     "user_tz": -330
    },
    "id": "zVzJeplWH7VQ"
   },
   "outputs": [],
   "source": [
    "embeddings = {}\n",
    "for o in open('DataSet - glove.6B.50d.txt'):\n",
    "    word = o.split(\" \")[0]\n",
    "    embd = o.split(\" \")[1:]\n",
    "    embd = np.asarray(embd, dtype='float32')\n",
    "    embeddings[word] = embd #Getting the word embeddings from the provided Glove vectors' file."
   ]
  },
  {
   "cell_type": "code",
   "execution_count": 25,
   "metadata": {
    "executionInfo": {
     "elapsed": 4,
     "status": "ok",
     "timestamp": 1654940469877,
     "user": {
      "displayName": "Ninad Mahajan",
      "userId": "06019242154511429810"
     },
     "user_tz": -330
    },
    "id": "EbjouxDHIRdI"
   },
   "outputs": [],
   "source": [
    "embedding_matrix = np.zeros((num_words+1, 50))\n",
    "\n",
    "for word, i in tokenizer.word_index.items():\n",
    "    embedding_vector = embeddings.get(word)\n",
    "    if embedding_vector is not None:\n",
    "        embedding_matrix[i] = embedding_vector #Creating the embedding matrix."
   ]
  },
  {
   "cell_type": "code",
   "execution_count": 28,
   "metadata": {
    "executionInfo": {
     "elapsed": 1394,
     "status": "ok",
     "timestamp": 1654940572968,
     "user": {
      "displayName": "Ninad Mahajan",
      "userId": "06019242154511429810"
     },
     "user_tz": -330
    },
    "id": "7GBLxUA9Iqd4"
   },
   "outputs": [],
   "source": [
    "import tensorflow as tf\n",
    "#Creating a bidirectional lstm with basic parameters\n",
    "input_layer = Input(shape=(maxlen,),dtype=tf.int64)\n",
    "embed = Embedding(embedding_matrix.shape[0],output_dim=50,weights=[embedding_matrix],input_length=maxlen, trainable=True)(input_layer)\n",
    "lstm=Bidirectional(LSTM(128))(embed)\n",
    "drop=Dropout(0.3)(lstm)\n",
    "dense =Dense(100,activation='relu')(drop)\n",
    "out=Dense(2,activation='softmax')(dense)"
   ]
  },
  {
   "cell_type": "code",
   "execution_count": 29,
   "metadata": {
    "colab": {
     "base_uri": "https://localhost:8080/"
    },
    "executionInfo": {
     "elapsed": 414,
     "status": "ok",
     "timestamp": 1654940592613,
     "user": {
      "displayName": "Ninad Mahajan",
      "userId": "06019242154511429810"
     },
     "user_tz": -330
    },
    "id": "ZtKBjRYNIwB8",
    "outputId": "812d726b-b58a-43d0-dbb9-7ee2f94da395"
   },
   "outputs": [
    {
     "name": "stdout",
     "output_type": "stream",
     "text": [
      "Model: \"model\"\n",
      "_________________________________________________________________\n",
      " Layer (type)                Output Shape              Param #   \n",
      "=================================================================\n",
      " input_2 (InputLayer)        [(None, 911)]             0         \n",
      "                                                                 \n",
      " embedding_1 (Embedding)     (None, 911, 50)           1358850   \n",
      "                                                                 \n",
      " bidirectional (Bidirectiona  (None, 256)              183296    \n",
      " l)                                                              \n",
      "                                                                 \n",
      " dropout (Dropout)           (None, 256)               0         \n",
      "                                                                 \n",
      " dense (Dense)               (None, 100)               25700     \n",
      "                                                                 \n",
      " dense_1 (Dense)             (None, 2)                 202       \n",
      "                                                                 \n",
      "=================================================================\n",
      "Total params: 1,568,048\n",
      "Trainable params: 1,568,048\n",
      "Non-trainable params: 0\n",
      "_________________________________________________________________\n"
     ]
    }
   ],
   "source": [
    "batch_size = 100\n",
    "epochs = 5\n",
    "\n",
    "model = Model(input_layer,out)\n",
    "model.compile(loss='sparse_categorical_crossentropy',optimizer=\"adam\",metrics=['accuracy'])\n",
    "model.summary()"
   ]
  },
  {
   "cell_type": "code",
   "execution_count": 30,
   "metadata": {
    "colab": {
     "base_uri": "https://localhost:8080/"
    },
    "executionInfo": {
     "elapsed": 150569,
     "status": "ok",
     "timestamp": 1654940769809,
     "user": {
      "displayName": "Ninad Mahajan",
      "userId": "06019242154511429810"
     },
     "user_tz": -330
    },
    "id": "ESzjMLCVJWQo",
    "outputId": "68f5c6cf-8891-4e38-8228-89b5e0f0279c"
   },
   "outputs": [
    {
     "name": "stdout",
     "output_type": "stream",
     "text": [
      "Epoch 1/5\n",
      "229/229 [==============================] - 35s 97ms/step - loss: 0.5062 - accuracy: 0.7443\n",
      "Epoch 2/5\n",
      "229/229 [==============================] - 22s 96ms/step - loss: 0.3086 - accuracy: 0.8677\n",
      "Epoch 3/5\n",
      "229/229 [==============================] - 22s 98ms/step - loss: 0.2225 - accuracy: 0.9104\n",
      "Epoch 4/5\n",
      "229/229 [==============================] - 23s 102ms/step - loss: 0.1683 - accuracy: 0.9360\n",
      "Epoch 5/5\n",
      "229/229 [==============================] - 24s 104ms/step - loss: 0.1308 - accuracy: 0.9518\n"
     ]
    },
    {
     "data": {
      "text/plain": [
       "<keras.callbacks.History at 0x7f707461a950>"
      ]
     },
     "execution_count": 30,
     "metadata": {},
     "output_type": "execute_result"
    }
   ],
   "source": [
    "from sklearn.model_selection import train_test_split\n",
    "X_train, X_test, y_train, y_test = train_test_split(X, y, test_size=0.2, random_state=10)\n",
    "\n",
    "model.fit(X_train,y_train,batch_size=batch_size, epochs=epochs, verbose=1)"
   ]
  },
  {
   "cell_type": "code",
   "execution_count": 31,
   "metadata": {
    "executionInfo": {
     "elapsed": 6378,
     "status": "ok",
     "timestamp": 1654940967944,
     "user": {
      "displayName": "Ninad Mahajan",
      "userId": "06019242154511429810"
     },
     "user_tz": -330
    },
    "id": "xWgHJYiIJcxn"
   },
   "outputs": [],
   "source": [
    "y_pred = [np.argmax(i) for i in model.predict(X_test)]"
   ]
  },
  {
   "cell_type": "code",
   "execution_count": 33,
   "metadata": {
    "colab": {
     "base_uri": "https://localhost:8080/"
    },
    "executionInfo": {
     "elapsed": 12,
     "status": "ok",
     "timestamp": 1654941023100,
     "user": {
      "displayName": "Ninad Mahajan",
      "userId": "06019242154511429810"
     },
     "user_tz": -330
    },
    "id": "r1i_7pKFKwQ6",
    "outputId": "a14ffc7c-3d3f-4def-b731-54ddf2a03ff6"
   },
   "outputs": [
    {
     "name": "stdout",
     "output_type": "stream",
     "text": [
      "Test accuracy:  0.8649545772187281\n",
      "Test f1 score:  0.8525653251954988\n"
     ]
    }
   ],
   "source": [
    "from sklearn.metrics import accuracy_score, f1_score\n",
    "print(\"Test accuracy: \",accuracy_score(y_test,y_pred))\n",
    "print(\"Test f1 score: \",f1_score(y_test,y_pred)) #Printing the model performance on test data"
   ]
  },
  {
   "cell_type": "code",
   "execution_count": 36,
   "metadata": {
    "colab": {
     "base_uri": "https://localhost:8080/",
     "height": 296
    },
    "executionInfo": {
     "elapsed": 653,
     "status": "ok",
     "timestamp": 1654941457628,
     "user": {
      "displayName": "Ninad Mahajan",
      "userId": "06019242154511429810"
     },
     "user_tz": -330
    },
    "id": "fEAGkKvnK0K4",
    "outputId": "e10852ac-8e21-4e42-c1e1-d4e80e95ca11"
   },
   "outputs": [
    {
     "data": {
      "text/plain": [
       "<sklearn.metrics._plot.confusion_matrix.ConfusionMatrixDisplay at 0x7f7071927f90>"
      ]
     },
     "execution_count": 36,
     "metadata": {},
     "output_type": "execute_result"
    },
    {
     "data": {
      "image/png": "[encoded data removed]",
      "text/plain": [
       "<Figure size 432x288 with 2 Axes>"
      ]
     },
     "metadata": {
      "needs_background": "light"
     },
     "output_type": "display_data"
    }
   ],
   "source": [
    "from sklearn import metrics\n",
    "cm=metrics.confusion_matrix(y_test, y_pred)\n",
    "disp = metrics.ConfusionMatrixDisplay(confusion_matrix=cm, display_labels=['No','Yes'])\n",
    "disp.plot() #From the confusion matrix of test set, we can see that the model is more biased towards interpreting a headline as non sarcastic than it is to interpreting the headline as sarcastic"
   ]
  },
  {
   "cell_type": "code",
   "execution_count": null,
   "metadata": {
    "id": "G4a_BYnmMko_"
   },
   "outputs": [],
   "source": []
  }
 ],
 "metadata": {
  "accelerator": "GPU",
  "colab": {
   "authorship_tag": "ABX9TyPckYnu2Xvomr+2SxUjYsz1",
   "collapsed_sections": [],
   "name": "NLP_Project 2_Part 2.ipynb",
   "provenance": []
  },
  "kernelspec": {
   "display_name": "Python 3 (ipykernel)",
   "language": "python",
   "name": "python3"
  },
  "language_info": {
   "codemirror_mode": {
    "name": "ipython",
    "version": 3
   },
   "file_extension": ".py",
   "mimetype": "text/x-python",
   "name": "python",
   "nbconvert_exporter": "python",
   "pygments_lexer": "ipython3",
   "version": "3.8.13"
  }
 },
 "nbformat": 4,
 "nbformat_minor": 1
}

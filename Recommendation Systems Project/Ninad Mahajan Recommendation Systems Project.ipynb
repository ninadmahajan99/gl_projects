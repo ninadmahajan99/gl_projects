{
 "cells": [
  {
   "cell_type": "code",
   "execution_count": 1,
   "id": "28989a62",
   "metadata": {},
   "outputs": [],
   "source": [
    "import pandas as pd\n",
    "import matplotlib.pyplot as plt\n",
    "import seaborn as sns\n",
    "import numpy as np #Importing the required libraries"
   ]
  },
  {
   "cell_type": "code",
   "execution_count": 2,
   "id": "6029ed27",
   "metadata": {},
   "outputs": [],
   "source": [
    "#1 A. Reading and merging the dataframes.\n",
    "#Reading the given data files. Using a different encoding standard, as UTF-8 is producing errors. \n",
    "df1 = pd.read_csv('phone_user_review_file_1.csv',encoding = \"ISO-8859-1\")\n",
    "df2 = pd.read_csv('phone_user_review_file_2.csv',encoding = \"ISO-8859-1\")\n",
    "df3 = pd.read_csv('phone_user_review_file_3.csv',encoding = \"ISO-8859-1\")\n",
    "df4 = pd.read_csv('phone_user_review_file_4.csv',encoding = \"ISO-8859-1\")\n",
    "df5 = pd.read_csv('phone_user_review_file_5.csv',encoding = \"ISO-8859-1\")\n",
    "df6 = pd.read_csv('phone_user_review_file_6.csv',encoding = \"ISO-8859-1\")"
   ]
  },
  {
   "cell_type": "code",
   "execution_count": 3,
   "id": "747ccd2a",
   "metadata": {},
   "outputs": [],
   "source": [
    "df_final = pd.DataFrame()\n",
    "df_final = df_final.append(df1)\n",
    "df_final = df_final.append(df2)\n",
    "df_final = df_final.append(df3)\n",
    "df_final = df_final.append(df4)\n",
    "df_final = df_final.append(df5)\n",
    "df_final = df_final.append(df6)"
   ]
  },
  {
   "cell_type": "code",
   "execution_count": 4,
   "id": "26eebd8f",
   "metadata": {},
   "outputs": [
    {
     "data": {
      "text/plain": [
       "Amazon             728471\n",
       "Yandex             123066\n",
       "Ciao                59425\n",
       "Samsung             45585\n",
       "MercadoLibre        33531\n",
       "                    ...  \n",
       "Comtech                 1\n",
       "Karsilastir             1\n",
       "Quelle                  1\n",
       "Elkj??p                 1\n",
       "RECENZJE.NET.PL         1\n",
       "Name: source, Length: 331, dtype: int64"
      ]
     },
     "execution_count": 4,
     "metadata": {},
     "output_type": "execute_result"
    }
   ],
   "source": [
    "#1 B. Exploring and understanding the data.\n",
    "df_final['source'].value_counts() #We can see that the user reviews from Amazon and Yandex form more than half of the total reviews."
   ]
  },
  {
   "cell_type": "code",
   "execution_count": 5,
   "id": "535a52f6",
   "metadata": {},
   "outputs": [
    {
     "data": {
      "text/plain": [
       "8.007059551183373"
      ]
     },
     "execution_count": 5,
     "metadata": {},
     "output_type": "execute_result"
    }
   ],
   "source": [
    "df_final['score'].mean()"
   ]
  },
  {
   "cell_type": "code",
   "execution_count": 6,
   "id": "670645cd",
   "metadata": {},
   "outputs": [
    {
     "data": {
      "text/plain": [
       "\"Here we can see that there's a bias in the review score by all of the users,\\n   in which the users seem to be more inclined towards giving higher ratings to \\n   the smartphones rather than giving lower ratings\""
      ]
     },
     "execution_count": 6,
     "metadata": {},
     "output_type": "execute_result"
    }
   ],
   "source": [
    "'''Here we can see that there's a bias in the review score by all of the users,\n",
    "   in which the users seem to be more inclined towards giving higher ratings to \n",
    "   the smartphones rather than giving lower ratings'''"
   ]
  },
  {
   "cell_type": "code",
   "execution_count": 7,
   "id": "de8b00ac",
   "metadata": {},
   "outputs": [],
   "source": [
    "#1 C. Rounding off the scores to the nearest integers \n",
    "df_final['score_rounded'] = np.around(df_final['score'])"
   ]
  },
  {
   "cell_type": "code",
   "execution_count": 8,
   "id": "d4f476eb",
   "metadata": {},
   "outputs": [],
   "source": [
    "df_final=df_final.drop('score',axis=1)"
   ]
  },
  {
   "cell_type": "code",
   "execution_count": 9,
   "id": "a055689c",
   "metadata": {},
   "outputs": [
    {
     "data": {
      "text/plain": [
       "phone_url        False\n",
       "date             False\n",
       "lang             False\n",
       "country          False\n",
       "source           False\n",
       "domain           False\n",
       "score_max         True\n",
       "extract           True\n",
       "author            True\n",
       "product           True\n",
       "score_rounded     True\n",
       "dtype: bool"
      ]
     },
     "execution_count": 9,
     "metadata": {},
     "output_type": "execute_result"
    }
   ],
   "source": [
    "#1 D. Checking for and imputing the missing values in the dataset\n",
    "df_final.isna().any() #Null values are present in the dataset"
   ]
  },
  {
   "cell_type": "code",
   "execution_count": 10,
   "id": "6d1aef78",
   "metadata": {},
   "outputs": [
    {
     "data": {
      "text/plain": [
       "phone_url            0\n",
       "date                 0\n",
       "lang                 0\n",
       "country              0\n",
       "source               0\n",
       "domain               0\n",
       "score_max        63489\n",
       "extract          19361\n",
       "author           63202\n",
       "product              1\n",
       "score_rounded    63489\n",
       "dtype: int64"
      ]
     },
     "execution_count": 10,
     "metadata": {},
     "output_type": "execute_result"
    }
   ],
   "source": [
    "df_final.isna().sum()"
   ]
  },
  {
   "cell_type": "code",
   "execution_count": 11,
   "id": "55fc61db",
   "metadata": {},
   "outputs": [
    {
     "name": "stdout",
     "output_type": "stream",
     "text": [
      "Before dropping null values, the shap eof the dataset was :-\n",
      "(1415133, 11)\n",
      "After dropping null values, the shape of the dataset becomes :-\n",
      "(1275917, 11)\n"
     ]
    }
   ],
   "source": [
    "print(\"Before dropping null values, the shap eof the dataset was :-\")\n",
    "print(df_final.shape)\n",
    "print(\"After dropping null values, the shape of the dataset becomes :-\")\n",
    "print(df_final.dropna().shape)"
   ]
  },
  {
   "cell_type": "code",
   "execution_count": 12,
   "id": "8f32d0da",
   "metadata": {},
   "outputs": [],
   "source": [
    "#We can see that we're losing ~10% of the data after dropping the null values altogether.\n",
    "#Thus, in order to prevent this data loss, we've to impute the missing values wherever possible."
   ]
  },
  {
   "cell_type": "code",
   "execution_count": 13,
   "id": "2f86159f",
   "metadata": {},
   "outputs": [
    {
     "name": "stdout",
     "output_type": "stream",
     "text": [
      "author           63202\n",
      "product              1\n",
      "score_rounded    63489\n",
      "dtype: int64\n"
     ]
    }
   ],
   "source": [
    "#First, keeping only the features which are relevant to the preparation of recommendation system algorithms, such as author, product and score_rounded.\n",
    "df_final1 = df_final[['author','product','score_rounded']].reset_index().drop('index',axis=1)\n",
    "print(df_final1.isna().sum())"
   ]
  },
  {
   "cell_type": "code",
   "execution_count": 14,
   "id": "5ceb54d4",
   "metadata": {},
   "outputs": [
    {
     "data": {
      "text/plain": [
       "author           63202\n",
       "product              1\n",
       "score_rounded        0\n",
       "dtype: int64"
      ]
     },
     "execution_count": 14,
     "metadata": {},
     "output_type": "execute_result"
    }
   ],
   "source": [
    "#Imputing the null values in the column 'score_rounded' with the help of median value of the column.\n",
    "df_final1['score_rounded'] = df_final1['score_rounded'].fillna(df_final['score_rounded'].median())\n",
    "df_final1.isna().sum()"
   ]
  },
  {
   "cell_type": "code",
   "execution_count": 15,
   "id": "c69554ab",
   "metadata": {},
   "outputs": [
    {
     "name": "stdout",
     "output_type": "stream",
     "text": [
      "author           0\n",
      "product          0\n",
      "score_rounded    0\n",
      "dtype: int64\n",
      "(1351931, 3)\n"
     ]
    }
   ],
   "source": [
    "#Null values in the columns 'author' and 'product' can't be imputed, thus they've to be dropped.\n",
    "df_final1 = df_final1.dropna()\n",
    "print(df_final1.isna().sum())\n",
    "print(df_final1.shape) #No null values are now remaining in the dataset. After dropping the null values, only ~5% of the data was lost."
   ]
  },
  {
   "cell_type": "code",
   "execution_count": 16,
   "id": "413871d4",
   "metadata": {},
   "outputs": [
    {
     "data": {
      "text/plain": [
       "137609"
      ]
     },
     "execution_count": 16,
     "metadata": {},
     "output_type": "execute_result"
    }
   ],
   "source": [
    "#1 E. Checking for duplicate values in the dataset.\n",
    "sum(df_final1.duplicated()) #Lots of duplicate records are present in the dataset."
   ]
  },
  {
   "cell_type": "code",
   "execution_count": 17,
   "id": "dc268d10",
   "metadata": {},
   "outputs": [],
   "source": [
    "#Removing the duplicated values.\n",
    "df_final1 = df_final1.drop_duplicates()"
   ]
  },
  {
   "cell_type": "code",
   "execution_count": 18,
   "id": "713516ba",
   "metadata": {},
   "outputs": [
    {
     "data": {
      "text/plain": [
       "0"
      ]
     },
     "execution_count": 18,
     "metadata": {},
     "output_type": "execute_result"
    }
   ],
   "source": [
    "sum(df_final1.duplicated()) #No duplicate records are now present in the dataset."
   ]
  },
  {
   "cell_type": "code",
   "execution_count": 19,
   "id": "00ca13cc",
   "metadata": {},
   "outputs": [
    {
     "data": {
      "text/plain": [
       "False    1187568\n",
       "True       26754\n",
       "dtype: int64"
      ]
     },
     "execution_count": 19,
     "metadata": {},
     "output_type": "execute_result"
    }
   ],
   "source": [
    "#Let's check if a single user has given multiple ratings to the same smartphone model\n",
    "df_final1[['author','product']].duplicated().value_counts() #We can see that lots of users have given multiple reviews to the same smartphone model"
   ]
  },
  {
   "cell_type": "code",
   "execution_count": 20,
   "id": "7dfb7f19",
   "metadata": {},
   "outputs": [],
   "source": [
    "#Let's take mean of all of the ratings given by a single user to the single smartphone.\n",
    "df_final1=df_final1.groupby(by=['author','product']).mean().reset_index()"
   ]
  },
  {
   "cell_type": "code",
   "execution_count": 21,
   "id": "2fd43d62",
   "metadata": {},
   "outputs": [
    {
     "data": {
      "text/plain": [
       "(1000000, 3)"
      ]
     },
     "execution_count": 21,
     "metadata": {},
     "output_type": "execute_result"
    }
   ],
   "source": [
    "#1 F. Keeping only 1 million datapoints with random state = 612.\n",
    "df_final2 = df_final1.sample(n=1000000,random_state=612).reset_index().drop('index',axis=1)\n",
    "df_final2.shape"
   ]
  },
  {
   "cell_type": "code",
   "execution_count": 22,
   "id": "b8353cf3",
   "metadata": {},
   "outputs": [
    {
     "data": {
      "text/plain": [
       "OnePlus 3 (Graphite, 64 GB)                                                                                                   1794\n",
       "Lenovo Vibe K4 Note (White,16GB)                                                                                              1720\n",
       "Nokia N95                                                                                                                     1529\n",
       "Lenovo Vibe K4 Note (Black, 16GB)                                                                                             1486\n",
       "Samsung Galaxy J3 (8GB)                                                                                                       1482\n",
       "                                                                                                                              ... \n",
       "HTC Amaze 4G (Black)                                                                                                             1\n",
       "Apple iPhone 6S (128GB, space gray)                                                                                              1\n",
       "Samsung Galaxy Grand Plus - Smartphone libre Android (pantalla 5\", cÃ¡mara 5 Mp, 8 GB, Quad-Core 1.2 GHz, 1 GB RAM), negro       1\n",
       "Sony Ericsson T707 Sim Free Unlocked Mobile Phone                                                                                1\n",
       "Microsoft Lumia 950 XL 32GB 4G White - smartphones (Dual SIM, Windows 10, NanoSIM, GSM, WCDMA, LTE)                              1\n",
       "Name: product, Length: 57930, dtype: int64"
      ]
     },
     "execution_count": 22,
     "metadata": {},
     "output_type": "execute_result"
    }
   ],
   "source": [
    "#2 A. Identifying the most rated features (smartphone models)\n",
    "df_final2['product'].value_counts()"
   ]
  },
  {
   "cell_type": "code",
   "execution_count": 23,
   "id": "bb6c513e",
   "metadata": {},
   "outputs": [
    {
     "data": {
      "text/html": [
       "<div>\n",
       "<style scoped>\n",
       "    .dataframe tbody tr th:only-of-type {\n",
       "        vertical-align: middle;\n",
       "    }\n",
       "\n",
       "    .dataframe tbody tr th {\n",
       "        vertical-align: top;\n",
       "    }\n",
       "\n",
       "    .dataframe thead th {\n",
       "        text-align: right;\n",
       "    }\n",
       "</style>\n",
       "<table border=\"1\" class=\"dataframe\">\n",
       "  <thead>\n",
       "    <tr style=\"text-align: right;\">\n",
       "      <th></th>\n",
       "      <th>score_rounded</th>\n",
       "    </tr>\n",
       "    <tr>\n",
       "      <th>product</th>\n",
       "      <th></th>\n",
       "    </tr>\n",
       "  </thead>\n",
       "  <tbody>\n",
       "    <tr>\n",
       "      <th>SAMSUNG Galaxy S6 Edge - Or - 4G+ - 32 Go - Smartphone</th>\n",
       "      <td>10.0</td>\n",
       "    </tr>\n",
       "    <tr>\n",
       "      <th>Samsung S8000 Jet Zwart</th>\n",
       "      <td>10.0</td>\n",
       "    </tr>\n",
       "    <tr>\n",
       "      <th>LG Optimus 4X HD Zwart</th>\n",
       "      <td>10.0</td>\n",
       "    </tr>\n",
       "    <tr>\n",
       "      <th>Samsung S7710 Galaxy SF Xcover 2 titan-grey</th>\n",
       "      <td>10.0</td>\n",
       "    </tr>\n",
       "    <tr>\n",
       "      <th>LG Optimus 4X HD (unlocked)</th>\n",
       "      <td>10.0</td>\n",
       "    </tr>\n",
       "    <tr>\n",
       "      <th>...</th>\n",
       "      <td>...</td>\n",
       "    </tr>\n",
       "    <tr>\n",
       "      <th>Samsung Craft SCH-r900 - black (MetroPCS)</th>\n",
       "      <td>1.0</td>\n",
       "    </tr>\n",
       "    <tr>\n",
       "      <th>Samsung Illusion SCH-I110 (Verizon Wireless)</th>\n",
       "      <td>1.0</td>\n",
       "    </tr>\n",
       "    <tr>\n",
       "      <th>LG EnV3</th>\n",
       "      <td>1.0</td>\n",
       "    </tr>\n",
       "    <tr>\n",
       "      <th>Lenovo Motorola Droid Pro (Verizon Wireless)</th>\n",
       "      <td>1.0</td>\n",
       "    </tr>\n",
       "    <tr>\n",
       "      <th>Motorola SLVR V8</th>\n",
       "      <td>0.0</td>\n",
       "    </tr>\n",
       "  </tbody>\n",
       "</table>\n",
       "<p>57930 rows × 1 columns</p>\n",
       "</div>"
      ],
      "text/plain": [
       "                                                    score_rounded\n",
       "product                                                          \n",
       "SAMSUNG Galaxy S6 Edge - Or - 4G+ - 32 Go - Sma...           10.0\n",
       "Samsung S8000 Jet Zwart                                      10.0\n",
       "LG Optimus 4X HD Zwart                                       10.0\n",
       "Samsung S7710 Galaxy SF Xcover 2 titan-grey                  10.0\n",
       "LG Optimus 4X HD (unlocked)                                  10.0\n",
       "...                                                           ...\n",
       "Samsung Craft SCH-r900 - black (MetroPCS)                     1.0\n",
       "Samsung Illusion SCH-I110 (Verizon Wireless)                  1.0\n",
       "LG EnV3                                                       1.0\n",
       "Lenovo Motorola Droid Pro (Verizon Wireless)                  1.0\n",
       "Motorola SLVR V8                                              0.0\n",
       "\n",
       "[57930 rows x 1 columns]"
      ]
     },
     "execution_count": 23,
     "metadata": {},
     "output_type": "execute_result"
    }
   ],
   "source": [
    "#We can see that the smartphone models such as OnePlus 3 and Lenovo Vibe K4 Note have the highest number of reviews.\n",
    "#Let's see which smartphones have the highest average ratings in the dataset.\n",
    "df_final2[['product','score_rounded']].groupby(by='product').mean().sort_values(by='score_rounded',ascending=False)"
   ]
  },
  {
   "cell_type": "code",
   "execution_count": 24,
   "id": "89c2a663",
   "metadata": {},
   "outputs": [],
   "source": [
    "#Smartphones with makes such as LG and Samsung are highest rated in this dataset."
   ]
  },
  {
   "cell_type": "code",
   "execution_count": 25,
   "id": "29cb6d3c",
   "metadata": {},
   "outputs": [
    {
     "data": {
      "text/html": [
       "<div>\n",
       "<style scoped>\n",
       "    .dataframe tbody tr th:only-of-type {\n",
       "        vertical-align: middle;\n",
       "    }\n",
       "\n",
       "    .dataframe tbody tr th {\n",
       "        vertical-align: top;\n",
       "    }\n",
       "\n",
       "    .dataframe thead th {\n",
       "        text-align: right;\n",
       "    }\n",
       "</style>\n",
       "<table border=\"1\" class=\"dataframe\">\n",
       "  <thead>\n",
       "    <tr style=\"text-align: right;\">\n",
       "      <th></th>\n",
       "      <th>score_rounded</th>\n",
       "    </tr>\n",
       "    <tr>\n",
       "      <th>author</th>\n",
       "      <th></th>\n",
       "    </tr>\n",
       "  </thead>\n",
       "  <tbody>\n",
       "    <tr>\n",
       "      <th>Amazon Customer</th>\n",
       "      <td>6998</td>\n",
       "    </tr>\n",
       "    <tr>\n",
       "      <th>Cliente Amazon</th>\n",
       "      <td>2616</td>\n",
       "    </tr>\n",
       "    <tr>\n",
       "      <th>Anonymous</th>\n",
       "      <td>1038</td>\n",
       "    </tr>\n",
       "    <tr>\n",
       "      <th>Client d'Amazon</th>\n",
       "      <td>996</td>\n",
       "    </tr>\n",
       "    <tr>\n",
       "      <th>Amazon Kunde</th>\n",
       "      <td>873</td>\n",
       "    </tr>\n",
       "    <tr>\n",
       "      <th>...</th>\n",
       "      <td>...</td>\n",
       "    </tr>\n",
       "    <tr>\n",
       "      <th>Luis Toledo</th>\n",
       "      <td>1</td>\n",
       "    </tr>\n",
       "    <tr>\n",
       "      <th>Luis Toribio</th>\n",
       "      <td>1</td>\n",
       "    </tr>\n",
       "    <tr>\n",
       "      <th>Luis Tovar</th>\n",
       "      <td>1</td>\n",
       "    </tr>\n",
       "    <tr>\n",
       "      <th>Luis Turtle \"Luis Turtle\"</th>\n",
       "      <td>1</td>\n",
       "    </tr>\n",
       "    <tr>\n",
       "      <th>ï¿½ï¿½ï¿½ï¿½ï¿½ï¿½ï¿½ï¿½ï¿½ Xï¿½ï¿½ ï¿½ï¿½ï¿½ï¿½ï¿½ï¿½ï¿½_ï¿½ï¿½ï¿½ï¿½ï¿½ï¿½ï¿½ï¿½ï¿½_ï¿½ï¿½ï¿½ï¿½ï¿½ï¿½'m ï¿½ï¿½ï¿½ï¿½ï¿½ï¿½ï¿½ï¿½ï¿½ï¿½ï¿½...ï¿½ï¿½ï¿½ï¿½ï¿½ï¿½ï¿½3 ï¿½ï¿½ï¿½ï¿½ï¿½ï¿½ ï¿½ï¿½ï¿½ï¿½'</th>\n",
       "      <td>1</td>\n",
       "    </tr>\n",
       "  </tbody>\n",
       "</table>\n",
       "<p>689855 rows × 1 columns</p>\n",
       "</div>"
      ],
      "text/plain": [
       "                                                    score_rounded\n",
       "author                                                           \n",
       "Amazon Customer                                              6998\n",
       "Cliente Amazon                                               2616\n",
       "Anonymous                                                    1038\n",
       "Client d'Amazon                                               996\n",
       "Amazon Kunde                                                  873\n",
       "...                                                           ...\n",
       "Luis Toledo                                                     1\n",
       "Luis Toribio                                                    1\n",
       "Luis Tovar                                                      1\n",
       "Luis Turtle \"Luis Turtle\"                                       1\n",
       "ï¿½ï¿½ï¿½ï¿½ï¿½ï¿½ï¿½ï¿½ï¿½ Xï¿½ï¿½ ï¿½ï¿½ï¿½ï¿...              1\n",
       "\n",
       "[689855 rows x 1 columns]"
      ]
     },
     "execution_count": 25,
     "metadata": {},
     "output_type": "execute_result"
    }
   ],
   "source": [
    "#2 B. Identifying the users with most number of reviews.\n",
    "df_final2_author_count=df_final2[['author','score_rounded']].groupby(by='author').count().sort_values(by='score_rounded',ascending=False)\n",
    "df_final2_author_count"
   ]
  },
  {
   "cell_type": "code",
   "execution_count": 26,
   "id": "fc161ee8",
   "metadata": {},
   "outputs": [],
   "source": [
    "#From this statistic we can see that the anonymous Amazon customers from different countries are the topmost reviewers in this dataset."
   ]
  },
  {
   "cell_type": "code",
   "execution_count": 27,
   "id": "a327b09d",
   "metadata": {},
   "outputs": [],
   "source": [
    "#2 C.Selecting the data with products having more than 50 ratings and users who have given more than 50 ratings\n",
    "#Let's find out the authors who have given more than 50 ratings.\n",
    "df_final2_authors = df_final2_author_count[df_final2_author_count['score_rounded']>50].drop('score_rounded',axis=1).reset_index()\n",
    "author_list = df_final2_authors['author'].to_list()"
   ]
  },
  {
   "cell_type": "code",
   "execution_count": 28,
   "id": "e3ba7402",
   "metadata": {},
   "outputs": [],
   "source": [
    "#Let's find out the products with more than 50 ratings.\n",
    "df_final2_product_count=df_final2[['product','score_rounded']].groupby(by='product').count().sort_values(by='score_rounded',ascending=False)\n",
    "df_final2_products = df_final2_product_count[df_final2_product_count['score_rounded']>50].drop('score_rounded',axis=1).reset_index()\n",
    "product_list = df_final2_products['product'].to_list()"
   ]
  },
  {
   "cell_type": "code",
   "execution_count": 29,
   "id": "12031fb7",
   "metadata": {},
   "outputs": [],
   "source": [
    "df_final_f = df_final2[df_final2['author'].isin(author_list) & df_final2['product'].isin(product_list)].reset_index().drop('index',axis=1)"
   ]
  },
  {
   "cell_type": "code",
   "execution_count": 30,
   "id": "21590675",
   "metadata": {},
   "outputs": [
    {
     "data": {
      "text/plain": [
       "(37987, 3)"
      ]
     },
     "execution_count": 30,
     "metadata": {},
     "output_type": "execute_result"
    }
   ],
   "source": [
    "df_final_f.shape #Shape of the final dataframe"
   ]
  },
  {
   "cell_type": "code",
   "execution_count": 31,
   "id": "d447fded",
   "metadata": {},
   "outputs": [
    {
     "data": {
      "text/html": [
       "<div>\n",
       "<style scoped>\n",
       "    .dataframe tbody tr th:only-of-type {\n",
       "        vertical-align: middle;\n",
       "    }\n",
       "\n",
       "    .dataframe tbody tr th {\n",
       "        vertical-align: top;\n",
       "    }\n",
       "\n",
       "    .dataframe thead th {\n",
       "        text-align: right;\n",
       "    }\n",
       "</style>\n",
       "<table border=\"1\" class=\"dataframe\">\n",
       "  <thead>\n",
       "    <tr style=\"text-align: right;\">\n",
       "      <th></th>\n",
       "      <th>score_rounded</th>\n",
       "      <th>count</th>\n",
       "    </tr>\n",
       "    <tr>\n",
       "      <th>product</th>\n",
       "      <th></th>\n",
       "      <th></th>\n",
       "    </tr>\n",
       "  </thead>\n",
       "  <tbody>\n",
       "    <tr>\n",
       "      <th>Samsung Galaxy Note5</th>\n",
       "      <td>10.0</td>\n",
       "      <td>28</td>\n",
       "    </tr>\n",
       "    <tr>\n",
       "      <th>Lenovo Motorola RAZR HD Smartphone (11,9 cm (4,7 Zoll) AMOLED, Dual-Core, 1,5GHz, 1GB RAM, 8 Megapixel Kamera, Android 4.0) schwarz</th>\n",
       "      <td>10.0</td>\n",
       "      <td>8</td>\n",
       "    </tr>\n",
       "    <tr>\n",
       "      <th>Motorola Defy</th>\n",
       "      <td>10.0</td>\n",
       "      <td>8</td>\n",
       "    </tr>\n",
       "    <tr>\n",
       "      <th>Samsung N7100 Galaxy Note II (16Gb)</th>\n",
       "      <td>10.0</td>\n",
       "      <td>8</td>\n",
       "    </tr>\n",
       "    <tr>\n",
       "      <th>Apple iPhone 4S 32GB negro</th>\n",
       "      <td>10.0</td>\n",
       "      <td>7</td>\n",
       "    </tr>\n",
       "  </tbody>\n",
       "</table>\n",
       "</div>"
      ],
      "text/plain": [
       "                                                    score_rounded  count\n",
       "product                                                                 \n",
       "Samsung Galaxy Note5                                         10.0     28\n",
       "Lenovo Motorola RAZR HD Smartphone (11,9 cm (4,...           10.0      8\n",
       "Motorola Defy                                                10.0      8\n",
       "Samsung N7100 Galaxy Note II (16Gb)                          10.0      8\n",
       "Apple iPhone 4S 32GB negro                                   10.0      7"
      ]
     },
     "execution_count": 31,
     "metadata": {},
     "output_type": "execute_result"
    }
   ],
   "source": [
    "#3. Building a popularity based recommendation system and recommending the top 5 smartphone models.\n",
    "df_final_f_avg_score = df_final_f[['product','score_rounded']].groupby(by = 'product').mean()\n",
    "#df_final_f[['product','score_rounded']].groupby(by = 'product').count()\n",
    "df_final_f_avg_score['count'] = df_final_f[['product','score_rounded']].groupby(by = 'product').count()\n",
    "df_final_f_avg_score.sort_values(by=['score_rounded','count'],ascending=False).head() #Recommending the top 5 highest rated and most popular smartphone models."
   ]
  },
  {
   "cell_type": "code",
   "execution_count": 32,
   "id": "deff7cbf",
   "metadata": {},
   "outputs": [],
   "source": [
    "#4. Building a collaborative recommendation system using SVD and KNN with means with the help of surprise library\n",
    "#Building the rating matrix\n",
    "rating_matrix = df_final_f.pivot(index = 'author', columns ='product', values = 'score_rounded')"
   ]
  },
  {
   "cell_type": "code",
   "execution_count": 33,
   "id": "7d07d22f",
   "metadata": {},
   "outputs": [
    {
     "name": "stdout",
     "output_type": "stream",
     "text": [
      "Total non zero values in the matrix :  2753152\n",
      "Total possible values in the matrix :  2791139\n",
      "Matrix density :  98.63901439519852 %\n"
     ]
    }
   ],
   "source": [
    "nonzero = np.count_nonzero(np.isnan(rating_matrix))\n",
    "maxvals = rating_matrix.shape[0]*rating_matrix.shape[1]\n",
    "print('Total non zero values in the matrix : ',nonzero)\n",
    "print('Total possible values in the matrix : ',maxvals)\n",
    "print('Matrix density : ',(nonzero/maxvals)*100,'%') #Highly dense matrix."
   ]
  },
  {
   "cell_type": "code",
   "execution_count": 34,
   "id": "efa882d9",
   "metadata": {},
   "outputs": [],
   "source": [
    "from surprise import Dataset,Reader\n",
    "from surprise.model_selection import train_test_split\n",
    "from surprise import SVD, KNNWithMeans\n",
    "from surprise import accuracy\n",
    "reader = Reader(rating_scale=(1, 10))\n",
    "data = Dataset.load_from_df(df_final_f[['author', 'product', 'score_rounded']], reader)\n",
    "#Loading the dataset into the surprise library supported format"
   ]
  },
  {
   "cell_type": "code",
   "execution_count": 35,
   "id": "e4ba3b6f",
   "metadata": {},
   "outputs": [],
   "source": [
    "trainset, testset = train_test_split(data, test_size=.25,random_state=123) #Splitting the dataset into training and test sets."
   ]
  },
  {
   "cell_type": "code",
   "execution_count": 36,
   "id": "1f8ea71a",
   "metadata": {},
   "outputs": [
    {
     "data": {
      "text/plain": [
       "<surprise.prediction_algorithms.matrix_factorization.SVD at 0x2c01443b370>"
      ]
     },
     "execution_count": 36,
     "metadata": {},
     "output_type": "execute_result"
    }
   ],
   "source": [
    "svd_model = SVD(n_factors=5,biased=False) #Training the SVD model using training set\n",
    "svd_model.fit(trainset)"
   ]
  },
  {
   "cell_type": "code",
   "execution_count": 37,
   "id": "9caed4b7",
   "metadata": {},
   "outputs": [],
   "source": [
    "test_pred = svd_model.test(testset)"
   ]
  },
  {
   "cell_type": "code",
   "execution_count": 38,
   "id": "6b4e5572",
   "metadata": {},
   "outputs": [
    {
     "name": "stdout",
     "output_type": "stream",
     "text": [
      "RMSE: 2.6295\n"
     ]
    },
    {
     "data": {
      "text/plain": [
       "2.6294610716123237"
      ]
     },
     "execution_count": 38,
     "metadata": {},
     "output_type": "execute_result"
    }
   ],
   "source": [
    "#Calculating root mean squared error for SVD model.\n",
    "accuracy.rmse(test_pred)"
   ]
  },
  {
   "cell_type": "code",
   "execution_count": 39,
   "id": "2da9333f",
   "metadata": {},
   "outputs": [
    {
     "name": "stdout",
     "output_type": "stream",
     "text": [
      "Computing the msd similarity matrix...\n",
      "Done computing similarity matrix.\n"
     ]
    },
    {
     "data": {
      "text/plain": [
       "<surprise.prediction_algorithms.knns.KNNWithMeans at 0x2c01443b9d0>"
      ]
     },
     "execution_count": 39,
     "metadata": {},
     "output_type": "execute_result"
    }
   ],
   "source": [
    "#Training a KNNWithMeans Item-Item based collaborative recommendation system\n",
    "algo_i = KNNWithMeans(k=10, sim_options={ 'user_based': False}) #10 neighbours\n",
    "algo_i.fit(trainset)"
   ]
  },
  {
   "cell_type": "code",
   "execution_count": 40,
   "id": "7f510c2f",
   "metadata": {},
   "outputs": [
    {
     "name": "stdout",
     "output_type": "stream",
     "text": [
      "RMSE: 2.5672\n",
      "2.5671767536128045\n"
     ]
    }
   ],
   "source": [
    "test_pred=algo_i.test(testset)\n",
    "print(accuracy.rmse(test_pred))"
   ]
  },
  {
   "cell_type": "code",
   "execution_count": 41,
   "id": "12a2aea7",
   "metadata": {},
   "outputs": [],
   "source": [
    "#Inference :-\n",
    "#We can see that KNNWithMeans gave us better results than SVD, as it came up with lesser test RMSE than the previous one.\n",
    "#We should try cross validation for lesser RMSE."
   ]
  },
  {
   "cell_type": "code",
   "execution_count": 42,
   "id": "54891514",
   "metadata": {},
   "outputs": [
    {
     "data": {
      "text/html": [
       "<div>\n",
       "<style scoped>\n",
       "    .dataframe tbody tr th:only-of-type {\n",
       "        vertical-align: middle;\n",
       "    }\n",
       "\n",
       "    .dataframe tbody tr th {\n",
       "        vertical-align: top;\n",
       "    }\n",
       "\n",
       "    .dataframe thead th {\n",
       "        text-align: right;\n",
       "    }\n",
       "</style>\n",
       "<table border=\"1\" class=\"dataframe\">\n",
       "  <thead>\n",
       "    <tr style=\"text-align: right;\">\n",
       "      <th></th>\n",
       "      <th>r_ui</th>\n",
       "      <th>est</th>\n",
       "    </tr>\n",
       "    <tr>\n",
       "      <th>iid</th>\n",
       "      <th></th>\n",
       "      <th></th>\n",
       "    </tr>\n",
       "  </thead>\n",
       "  <tbody>\n",
       "    <tr>\n",
       "      <th>5.5-Inch Unlocked Lenovo A850 3G Smartphone-(960x540) Quad Core 4GB MT6582m 1331MHz Android 4.2 Dual Camera +Dual SIM -Black (Rooted + Google Play)</th>\n",
       "      <td>4.000000</td>\n",
       "      <td>6.646559</td>\n",
       "    </tr>\n",
       "    <tr>\n",
       "      <th>AICEK Coque ASUS ZenFone 3 Max ZC520TL, AICEK Etui Silicone Gel ASUS ZenFone 3 Max Housse Antichoc ZenFone 3 Max Transparente Souple Coque de Protection pour ASUS ZenFone 3 Max(5.2 Pouces)</th>\n",
       "      <td>10.000000</td>\n",
       "      <td>7.563131</td>\n",
       "    </tr>\n",
       "    <tr>\n",
       "      <th>AICEK Coque Samsung Galaxy A3 2016, AICEK Etui Silicone Gel Samsung Galaxy A3 2016 (A310F) Housse Antichoc Samsung A3 Transparente Souple Coque De Protection Pour Samsung Galaxy A3 2016 (4,7 pouces)</th>\n",
       "      <td>6.000000</td>\n",
       "      <td>8.502999</td>\n",
       "    </tr>\n",
       "    <tr>\n",
       "      <th>AICEK Coque Samsung Galaxy J3 2016, AICEK Etui Silicone Gel Samsung Galaxy J3 2016 (J320F) Housse Antichoc Samsung J3 Transparente Souple Coque De Protection Pour Samsung Galaxy J3 2016 (5,0 Pouces)</th>\n",
       "      <td>10.000000</td>\n",
       "      <td>7.288846</td>\n",
       "    </tr>\n",
       "    <tr>\n",
       "      <th>APPLE iPhone 6s Plus - 128 GB, Rose Gold</th>\n",
       "      <td>9.545455</td>\n",
       "      <td>9.431761</td>\n",
       "    </tr>\n",
       "    <tr>\n",
       "      <th>...</th>\n",
       "      <td>...</td>\n",
       "      <td>...</td>\n",
       "    </tr>\n",
       "    <tr>\n",
       "      <th>ÐÐ¾Ð±Ð¸Ð»ÑÐ½ÑÐ¹ ÑÐµÐ»ÐµÑÐ¾Ð½ Lenovo A1000 White (PA1R0019UA)</th>\n",
       "      <td>8.750000</td>\n",
       "      <td>7.782227</td>\n",
       "    </tr>\n",
       "    <tr>\n",
       "      <th>ÐÐ¾Ð±Ð¸Ð»ÑÐ½ÑÐ¹ ÑÐµÐ»ÐµÑÐ¾Ð½ Samsung J700H/DS Galaxy J7 Duos White (SM-J700HZWDSEK)</th>\n",
       "      <td>9.600000</td>\n",
       "      <td>9.576623</td>\n",
       "    </tr>\n",
       "    <tr>\n",
       "      <th>Ð¡Ð¾ÑÐ¾Ð²ÑÐ¹ ÑÐµÐ»ÐµÑÐ¾Ð½ ASUS Zenfone 2 Laser</th>\n",
       "      <td>10.000000</td>\n",
       "      <td>8.689501</td>\n",
       "    </tr>\n",
       "    <tr>\n",
       "      <th>Ð¡Ð¾ÑÐ¾Ð²ÑÐ¹ ÑÐµÐ»ÐµÑÐ¾Ð½ Asus ZenFone 2</th>\n",
       "      <td>9.000000</td>\n",
       "      <td>9.513736</td>\n",
       "    </tr>\n",
       "    <tr>\n",
       "      <th>×××¤×× ×¡××××¨× LG G4 H815</th>\n",
       "      <td>2.000000</td>\n",
       "      <td>8.645788</td>\n",
       "    </tr>\n",
       "  </tbody>\n",
       "</table>\n",
       "<p>3048 rows × 2 columns</p>\n",
       "</div>"
      ],
      "text/plain": [
       "                                                         r_ui       est\n",
       "iid                                                                    \n",
       "5.5-Inch Unlocked Lenovo A850 3G Smartphone-(96...   4.000000  6.646559\n",
       "AICEK Coque ASUS ZenFone 3 Max ZC520TL, AICEK E...  10.000000  7.563131\n",
       "AICEK Coque Samsung Galaxy A3 2016, AICEK Etui ...   6.000000  8.502999\n",
       "AICEK Coque Samsung Galaxy J3 2016, AICEK Etui ...  10.000000  7.288846\n",
       "APPLE iPhone 6s Plus - 128 GB, Rose Gold             9.545455  9.431761\n",
       "...                                                       ...       ...\n",
       "ÐÐ¾Ð±Ð¸Ð»ÑÐ½ÑÐ¹ ÑÐµÐ»ÐµÑÐ¾Ð½ Lenovo A1000 ...   8.750000  7.782227\n",
       "ÐÐ¾Ð±Ð¸Ð»ÑÐ½ÑÐ¹ ÑÐµÐ»ÐµÑÐ¾Ð½ Samsung J700H...   9.600000  9.576623\n",
       "Ð¡Ð¾ÑÐ¾Ð²ÑÐ¹ ÑÐµÐ»ÐµÑÐ¾Ð½ ASUS Zenfone 2 Laser  10.000000  8.689501\n",
       "Ð¡Ð¾ÑÐ¾Ð²ÑÐ¹ ÑÐµÐ»ÐµÑÐ¾Ð½ Asus ZenFone 2         9.000000  9.513736\n",
       "×××¤×× ×¡××××¨× LG G4 H815                   2.000000  8.645788\n",
       "\n",
       "[3048 rows x 2 columns]"
      ]
     },
     "execution_count": 42,
     "metadata": {},
     "output_type": "execute_result"
    }
   ],
   "source": [
    "#6. Average ratings (actual and predicted) for all smartphones\n",
    "pd.DataFrame(test_pred).drop(['uid','details'],axis=1).groupby('iid').mean()"
   ]
  },
  {
   "cell_type": "code",
   "execution_count": null,
   "id": "1fff982e",
   "metadata": {},
   "outputs": [],
   "source": []
  },
  {
   "cell_type": "code",
   "execution_count": 43,
   "id": "83129fde",
   "metadata": {},
   "outputs": [
    {
     "data": {
      "text/html": [
       "<div>\n",
       "<style scoped>\n",
       "    .dataframe tbody tr th:only-of-type {\n",
       "        vertical-align: middle;\n",
       "    }\n",
       "\n",
       "    .dataframe tbody tr th {\n",
       "        vertical-align: top;\n",
       "    }\n",
       "\n",
       "    .dataframe thead th {\n",
       "        text-align: right;\n",
       "    }\n",
       "</style>\n",
       "<table border=\"1\" class=\"dataframe\">\n",
       "  <thead>\n",
       "    <tr style=\"text-align: right;\">\n",
       "      <th></th>\n",
       "      <th>iid</th>\n",
       "      <th>r_ui</th>\n",
       "      <th>est</th>\n",
       "    </tr>\n",
       "  </thead>\n",
       "  <tbody>\n",
       "    <tr>\n",
       "      <th>1</th>\n",
       "      <td>Samsung âSamsung Galaxy A3 Smartphone (12 cm...</td>\n",
       "      <td>10.0</td>\n",
       "      <td>7.570398</td>\n",
       "    </tr>\n",
       "    <tr>\n",
       "      <th>49</th>\n",
       "      <td>Samsung Galaxy Ace Plus S7500 Smartphone (9,3 ...</td>\n",
       "      <td>10.0</td>\n",
       "      <td>7.496931</td>\n",
       "    </tr>\n",
       "    <tr>\n",
       "      <th>778</th>\n",
       "      <td>Nokia Lumia 820 8GB GSM 4G LTE Windows 8 Smart...</td>\n",
       "      <td>10.0</td>\n",
       "      <td>9.510744</td>\n",
       "    </tr>\n",
       "    <tr>\n",
       "      <th>7976</th>\n",
       "      <td>Sony Xperia Z1 Compact Smartphone (4,3 Zoll (1...</td>\n",
       "      <td>10.0</td>\n",
       "      <td>6.647608</td>\n",
       "    </tr>\n",
       "    <tr>\n",
       "      <th>8353</th>\n",
       "      <td>APPLE iPhone 7 - Silver, 128 GB</td>\n",
       "      <td>10.0</td>\n",
       "      <td>7.680066</td>\n",
       "    </tr>\n",
       "  </tbody>\n",
       "</table>\n",
       "</div>"
      ],
      "text/plain": [
       "                                                    iid  r_ui       est\n",
       "1     Samsung âSamsung Galaxy A3 Smartphone (12 cm...  10.0  7.570398\n",
       "49    Samsung Galaxy Ace Plus S7500 Smartphone (9,3 ...  10.0  7.496931\n",
       "778   Nokia Lumia 820 8GB GSM 4G LTE Windows 8 Smart...  10.0  9.510744\n",
       "7976  Sony Xperia Z1 Compact Smartphone (4,3 Zoll (1...  10.0  6.647608\n",
       "8353                    APPLE iPhone 7 - Silver, 128 GB  10.0  7.680066"
      ]
     },
     "execution_count": 43,
     "metadata": {},
     "output_type": "execute_result"
    }
   ],
   "source": [
    "#8. Predicting top 5 results for a user, say 'Nina'.\n",
    "pred = pd.DataFrame(test_pred)\n",
    "pred[pred['uid'] == 'Nina'][['iid', 'r_ui','est']].sort_values(by = 'r_ui',ascending = False).head(5)"
   ]
  },
  {
   "cell_type": "code",
   "execution_count": 44,
   "id": "67cddb65",
   "metadata": {},
   "outputs": [
    {
     "name": "stdout",
     "output_type": "stream",
     "text": [
      "Computing the msd similarity matrix...\n",
      "Done computing similarity matrix.\n",
      "Computing the msd similarity matrix...\n",
      "Done computing similarity matrix.\n",
      "Computing the msd similarity matrix...\n",
      "Done computing similarity matrix.\n",
      "Computing the msd similarity matrix...\n",
      "Done computing similarity matrix.\n",
      "Computing the msd similarity matrix...\n",
      "Done computing similarity matrix.\n",
      "Evaluating RMSE, MAE of algorithm KNNWithMeans on 5 split(s).\n",
      "\n",
      "                  Fold 1  Fold 2  Fold 3  Fold 4  Fold 5  Mean    Std     \n",
      "RMSE (testset)    2.5587  2.5371  2.5986  2.5178  2.5499  2.5524  0.0269  \n",
      "MAE (testset)     1.9062  1.8923  1.9306  1.8723  1.9123  1.9027  0.0196  \n",
      "Fit time          0.98    0.91    0.93    1.02    1.04    0.98    0.05    \n",
      "Test time         1.16    1.29    1.17    1.28    1.17    1.21    0.06    \n"
     ]
    }
   ],
   "source": [
    "#9. Trying cross validation\n",
    "from surprise.model_selection import cross_validate\n",
    "dict1 = cross_validate(algo_i, data, measures=['RMSE', 'MAE'], cv=5, verbose=True)"
   ]
  },
  {
   "cell_type": "code",
   "execution_count": 45,
   "id": "cb4af5b1",
   "metadata": {},
   "outputs": [
    {
     "data": {
      "text/plain": [
       "{'test_rmse': array([2.55867398, 2.53709758, 2.59861332, 2.51784648, 2.54992589]),\n",
       " 'test_mae': array([1.90619635, 1.89231041, 1.93062834, 1.87230087, 1.9123128 ]),\n",
       " 'fit_time': (0.979832649230957,\n",
       "  0.9111647605895996,\n",
       "  0.9300198554992676,\n",
       "  1.0159988403320312,\n",
       "  1.038663387298584),\n",
       " 'test_time': (1.1560840606689453,\n",
       "  1.2864670753479004,\n",
       "  1.1717016696929932,\n",
       "  1.2776610851287842,\n",
       "  1.1712894439697266)}"
      ]
     },
     "execution_count": 45,
     "metadata": {},
     "output_type": "execute_result"
    }
   ],
   "source": [
    "dict1 #Test data results can be seen here."
   ]
  },
  {
   "cell_type": "code",
   "execution_count": 46,
   "id": "02253d6c",
   "metadata": {},
   "outputs": [
    {
     "data": {
      "text/plain": [
       "2.552431450162284"
      ]
     },
     "execution_count": 46,
     "metadata": {},
     "output_type": "execute_result"
    }
   ],
   "source": [
    "dict1['test_rmse'].mean() #Mean RMSE for test data with 5 folds CV."
   ]
  },
  {
   "cell_type": "code",
   "execution_count": 47,
   "id": "641db35f",
   "metadata": {},
   "outputs": [],
   "source": [
    "#We can see that this RMSE is even lesser than the same model without CV, from which we can infer that CV has improved the results."
   ]
  },
  {
   "cell_type": "code",
   "execution_count": 48,
   "id": "dbacd5c9",
   "metadata": {},
   "outputs": [
    {
     "data": {
      "text/plain": [
       "\"10. We use popularity based recommendation systems whenever a new user has been introduced in the system.\\n       In other words, whenever there's no previous record of a user, it is impossible to predict what he/she would like, as there's\\n       no data of that person. In that scenario, an assumption is taken into consideration that this user should have the taste similar\\n       to the taste of other users with same basic characteristics, for example same geographical location.\\n       Thus whatever the other users like on an average, the same things are recommended to this new user.\\n       For example, a new streamer is added on Netflix in India, then he/she would be recommended the content which is famous in India, say,\\n       the Indian web series Sacred Games.\""
      ]
     },
     "execution_count": 48,
     "metadata": {},
     "output_type": "execute_result"
    }
   ],
   "source": [
    "'''10. We use popularity based recommendation systems whenever a new user has been introduced in the system.\n",
    "       In other words, whenever there's no previous record of a user, it is impossible to predict what he/she would like, as there's\n",
    "       no data of that person. In that scenario, an assumption is taken into consideration that this user should have the taste similar\n",
    "       to the taste of other users with same basic characteristics, for example same geographical location.\n",
    "       Thus whatever the other users like on an average, the same things are recommended to this new user.\n",
    "       For example, a new streamer is added on Netflix in India, then he/she would be recommended the content which is famous in India, say,\n",
    "       the Indian web series Sacred Games.'''"
   ]
  },
  {
   "cell_type": "code",
   "execution_count": 49,
   "id": "6df7bbc6",
   "metadata": {},
   "outputs": [
    {
     "data": {
      "text/plain": [
       "'11. Classification based system is used in such a way that the data of both of a specific user and a specific product is\\n       clubbed together and a conventional classification based model is trained on that data in order to predict whether the\\n       user should be recommended that product or not.\\n       A particular problem with this system is that if there are 1000 users in the system and if there are 1000 products as well,\\n       then hundreds of thousands of models will be needed to be trained in order to build a CF based model for every possible combination\\n       of a user and a product.\\n       Thus it can be used wherever there are very low number of users and products in the system.'"
      ]
     },
     "execution_count": 49,
     "metadata": {},
     "output_type": "execute_result"
    }
   ],
   "source": [
    "'''11. Classification based system is used in such a way that the data of both of a specific user and a specific product is\n",
    "       clubbed together and a conventional classification based model is trained on that data in order to predict whether the\n",
    "       user should be recommended that product or not.\n",
    "       A particular problem with this system is that if there are 1000 users in the system and if there are 1000 products as well,\n",
    "       then hundreds of thousands of models will be needed to be trained in order to build a CF based model for every possible combination\n",
    "       of a user and a product.\n",
    "       Thus it can be used wherever there are very low number of users and products in the system.'''"
   ]
  },
  {
   "cell_type": "code",
   "execution_count": 50,
   "id": "de425d7c",
   "metadata": {},
   "outputs": [
    {
     "data": {
      "text/plain": [
       "'Methods to further improve the recommendation to different user :-\\n   1. There are several hyperparameters present in all of these algorithms. In order to further optimize the model performances,\\n      hyperparameter tuning can be done.\\n   2. After data cleanup, the data with more than 1 million entries was shrinked to only ~38 thousand entries. Larger dataset with\\n      cleaner data might have improved the results.'"
      ]
     },
     "execution_count": 50,
     "metadata": {},
     "output_type": "execute_result"
    }
   ],
   "source": [
    "'''Methods to further improve the recommendation to different user :-\n",
    "   1. There are several hyperparameters present in all of these algorithms. In order to further optimize the model performances,\n",
    "      hyperparameter tuning can be done.\n",
    "   2. After data cleanup, the data with more than 1 million entries was shrinked to only ~38 thousand entries. Larger dataset with\n",
    "      cleaner data might have improved the results.'''"
   ]
  }
 ],
 "metadata": {
  "kernelspec": {
   "display_name": "Python 3 (ipykernel)",
   "language": "python",
   "name": "python3"
  },
  "language_info": {
   "codemirror_mode": {
    "name": "ipython",
    "version": 3
   },
   "file_extension": ".py",
   "mimetype": "text/x-python",
   "name": "python",
   "nbconvert_exporter": "python",
   "pygments_lexer": "ipython3",
   "version": "3.8.12"
  }
 },
 "nbformat": 4,
 "nbformat_minor": 5
}
